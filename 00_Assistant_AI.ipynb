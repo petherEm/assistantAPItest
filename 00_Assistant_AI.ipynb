{
 "cells": [
  {
   "cell_type": "code",
   "execution_count": 1,
   "id": "5b12a4b6",
   "metadata": {},
   "outputs": [],
   "source": [
    "from openai import OpenAI\n",
    "from dotenv import load_dotenv\n",
    "import os\n",
    "import time"
   ]
  },
  {
   "cell_type": "code",
   "execution_count": 2,
   "id": "04a11c51",
   "metadata": {},
   "outputs": [
    {
     "data": {
      "text/plain": [
       "True"
      ]
     },
     "execution_count": 2,
     "metadata": {},
     "output_type": "execute_result"
    }
   ],
   "source": [
    "load_dotenv()"
   ]
  },
  {
   "cell_type": "code",
   "execution_count": 3,
   "id": "c226f846",
   "metadata": {},
   "outputs": [],
   "source": [
    "OPENAI_API_KEY= os.getenv(\"OPENAI_API_KEY\")"
   ]
  },
  {
   "cell_type": "code",
   "execution_count": 4,
   "id": "f4056a9c",
   "metadata": {},
   "outputs": [],
   "source": [
    "client = OpenAI(api_key=OPENAI_API_KEY)"
   ]
  },
  {
   "cell_type": "code",
   "execution_count": 5,
   "id": "8b921439",
   "metadata": {},
   "outputs": [
    {
     "data": {
      "text/plain": [
       "<openai.OpenAI at 0x7fe92906c1f0>"
      ]
     },
     "execution_count": 5,
     "metadata": {},
     "output_type": "execute_result"
    }
   ],
   "source": [
    "client"
   ]
  },
  {
   "cell_type": "code",
   "execution_count": 10,
   "id": "733f5560",
   "metadata": {},
   "outputs": [],
   "source": [
    "## ASSISTANT ##"
   ]
  },
  {
   "cell_type": "code",
   "execution_count": null,
   "id": "812a1c44",
   "metadata": {},
   "outputs": [],
   "source": [
    "## 01 CREATE ASSISTANT"
   ]
  },
  {
   "cell_type": "code",
   "execution_count": 8,
   "id": "d33650f1",
   "metadata": {},
   "outputs": [],
   "source": [
    "assistant = client.beta.assistants.create(\n",
    "    name=\"Math Tutor\",\n",
    "    instructions=\"You are a personal math tutor. Write and run code to answer math questions.\",\n",
    "    tools=[{\"type\": \"code_interpreter\"}],\n",
    "    model=\"gpt-4-1106-preview\"\n",
    ")"
   ]
  },
  {
   "cell_type": "code",
   "execution_count": 9,
   "id": "3ef5fed5",
   "metadata": {},
   "outputs": [
    {
     "data": {
      "text/plain": [
       "Assistant(id='asst_17RV56tEXwEJLK1kO7mOPNG9', created_at=1704695573, description=None, file_ids=[], instructions='You are a personal math tutor. Write and run code to answer math questions.', metadata={}, model='gpt-4-1106-preview', name='Math Tutor', object='assistant', tools=[ToolCodeInterpreter(type='code_interpreter')])"
      ]
     },
     "execution_count": 9,
     "metadata": {},
     "output_type": "execute_result"
    }
   ],
   "source": [
    "assistant"
   ]
  },
  {
   "cell_type": "code",
   "execution_count": 11,
   "id": "de1e9a12",
   "metadata": {},
   "outputs": [],
   "source": [
    "## 02 CREATE A THREAD"
   ]
  },
  {
   "cell_type": "code",
   "execution_count": 12,
   "id": "fa91743f",
   "metadata": {},
   "outputs": [],
   "source": [
    "thread = client.beta.threads.create()"
   ]
  },
  {
   "cell_type": "code",
   "execution_count": 13,
   "id": "4defb2e7",
   "metadata": {},
   "outputs": [
    {
     "data": {
      "text/plain": [
       "Thread(id='thread_YeqN2WGgs1ftyfaxzuNPWxQo', created_at=1704695951, metadata={}, object='thread')"
      ]
     },
     "execution_count": 13,
     "metadata": {},
     "output_type": "execute_result"
    }
   ],
   "source": [
    "thread"
   ]
  },
  {
   "cell_type": "code",
   "execution_count": 14,
   "id": "33a30dcd",
   "metadata": {},
   "outputs": [],
   "source": [
    "message = client.beta.threads.messages.create(\n",
    "    thread_id=thread.id,\n",
    "    role=\"user\",\n",
    "    content=\"I need to solve the equation `3x + 11 = 14`. Can you help me?\"\n",
    ")"
   ]
  },
  {
   "cell_type": "code",
   "execution_count": 15,
   "id": "7dc86ed5",
   "metadata": {},
   "outputs": [
    {
     "data": {
      "text/plain": [
       "ThreadMessage(id='msg_bE6nPFVC0v9jhH1TzvffxN4R', assistant_id=None, content=[MessageContentText(text=Text(annotations=[], value='I need to solve the equation `3x + 11 = 14`. Can you help me?'), type='text')], created_at=1704696034, file_ids=[], metadata={}, object='thread.message', role='user', run_id=None, thread_id='thread_YeqN2WGgs1ftyfaxzuNPWxQo')"
      ]
     },
     "execution_count": 15,
     "metadata": {},
     "output_type": "execute_result"
    }
   ],
   "source": [
    "message"
   ]
  },
  {
   "cell_type": "code",
   "execution_count": 16,
   "id": "4d70508c",
   "metadata": {},
   "outputs": [],
   "source": [
    "run = client.beta.threads.runs.create(\n",
    "  thread_id=thread.id,\n",
    "  assistant_id=assistant.id,\n",
    "  instructions=\"Please address the user as Jane Doe. The user has a premium account.\"\n",
    ")"
   ]
  },
  {
   "cell_type": "code",
   "execution_count": 19,
   "id": "1976bd11",
   "metadata": {},
   "outputs": [
    {
     "data": {
      "text/plain": [
       "Run(id='run_UHRTTK0qDNqrI4Rhr9oZwBrY', assistant_id='asst_17RV56tEXwEJLK1kO7mOPNG9', cancelled_at=None, completed_at=None, created_at=1704696080, expires_at=1704696680, failed_at=None, file_ids=[], instructions='Please address the user as Jane Doe. The user has a premium account.', last_error=None, metadata={}, model='gpt-4-1106-preview', object='thread.run', required_action=None, started_at=None, status='queued', thread_id='thread_YeqN2WGgs1ftyfaxzuNPWxQo', tools=[ToolAssistantToolsCode(type='code_interpreter')])"
      ]
     },
     "execution_count": 19,
     "metadata": {},
     "output_type": "execute_result"
    }
   ],
   "source": [
    "run"
   ]
  },
  {
   "cell_type": "code",
   "execution_count": 20,
   "id": "aa271a40",
   "metadata": {},
   "outputs": [],
   "source": [
    "run = client.beta.threads.runs.retrieve(\n",
    "  thread_id=thread.id,\n",
    "  run_id=run.id\n",
    ")"
   ]
  },
  {
   "cell_type": "code",
   "execution_count": 21,
   "id": "7ba8bd78",
   "metadata": {},
   "outputs": [
    {
     "data": {
      "text/plain": [
       "Run(id='run_UHRTTK0qDNqrI4Rhr9oZwBrY', assistant_id='asst_17RV56tEXwEJLK1kO7mOPNG9', cancelled_at=None, completed_at=1704696099, created_at=1704696080, expires_at=None, failed_at=None, file_ids=[], instructions='Please address the user as Jane Doe. The user has a premium account.', last_error=None, metadata={}, model='gpt-4-1106-preview', object='thread.run', required_action=None, started_at=1704696080, status='completed', thread_id='thread_YeqN2WGgs1ftyfaxzuNPWxQo', tools=[ToolAssistantToolsCode(type='code_interpreter')])"
      ]
     },
     "execution_count": 21,
     "metadata": {},
     "output_type": "execute_result"
    }
   ],
   "source": [
    "run"
   ]
  },
  {
   "cell_type": "code",
   "execution_count": 22,
   "id": "e43d2fd0",
   "metadata": {},
   "outputs": [],
   "source": [
    "messages = client.beta.threads.messages.list(\n",
    "  thread_id=thread.id\n",
    ")"
   ]
  },
  {
   "cell_type": "code",
   "execution_count": 23,
   "id": "226105d6",
   "metadata": {},
   "outputs": [
    {
     "data": {
      "text/plain": [
       "SyncCursorPage[ThreadMessage](data=[ThreadMessage(id='msg_lmiwj0vy57xC8WY4u48QGnFv', assistant_id='asst_17RV56tEXwEJLK1kO7mOPNG9', content=[MessageContentText(text=Text(annotations=[], value='The solution to the equation \\\\(3x + 11 = 14\\\\) is \\\\(x = 1\\\\).'), type='text')], created_at=1704696098, file_ids=[], metadata={}, object='thread.message', role='assistant', run_id='run_UHRTTK0qDNqrI4Rhr9oZwBrY', thread_id='thread_YeqN2WGgs1ftyfaxzuNPWxQo'), ThreadMessage(id='msg_bE6nPFVC0v9jhH1TzvffxN4R', assistant_id=None, content=[MessageContentText(text=Text(annotations=[], value='I need to solve the equation `3x + 11 = 14`. Can you help me?'), type='text')], created_at=1704696034, file_ids=[], metadata={}, object='thread.message', role='user', run_id=None, thread_id='thread_YeqN2WGgs1ftyfaxzuNPWxQo')], object='list', first_id='msg_lmiwj0vy57xC8WY4u48QGnFv', last_id='msg_bE6nPFVC0v9jhH1TzvffxN4R', has_more=False)"
      ]
     },
     "execution_count": 23,
     "metadata": {},
     "output_type": "execute_result"
    }
   ],
   "source": [
    "messages"
   ]
  },
  {
   "cell_type": "code",
   "execution_count": 25,
   "id": "c2c56f0a",
   "metadata": {},
   "outputs": [
    {
     "name": "stdout",
     "output_type": "stream",
     "text": [
      "SyncCursorPage[ThreadMessage](data=[ThreadMessage(id='msg_lmiwj0vy57xC8WY4u48QGnFv', assistant_id='asst_17RV56tEXwEJLK1kO7mOPNG9', content=[MessageContentText(text=Text(annotations=[], value='The solution to the equation \\\\(3x + 11 = 14\\\\) is \\\\(x = 1\\\\).'), type='text')], created_at=1704696098, file_ids=[], metadata={}, object='thread.message', role='assistant', run_id='run_UHRTTK0qDNqrI4Rhr9oZwBrY', thread_id='thread_YeqN2WGgs1ftyfaxzuNPWxQo'), ThreadMessage(id='msg_bE6nPFVC0v9jhH1TzvffxN4R', assistant_id=None, content=[MessageContentText(text=Text(annotations=[], value='I need to solve the equation `3x + 11 = 14`. Can you help me?'), type='text')], created_at=1704696034, file_ids=[], metadata={}, object='thread.message', role='user', run_id=None, thread_id='thread_YeqN2WGgs1ftyfaxzuNPWxQo')], object='list', first_id='msg_lmiwj0vy57xC8WY4u48QGnFv', last_id='msg_bE6nPFVC0v9jhH1TzvffxN4R', has_more=False)\n"
     ]
    }
   ],
   "source": [
    "print(messages)"
   ]
  },
  {
   "cell_type": "code",
   "execution_count": 26,
   "id": "435bee46",
   "metadata": {},
   "outputs": [],
   "source": [
    "new_message = messages.data[0].content[0].text.value"
   ]
  },
  {
   "cell_type": "code",
   "execution_count": 27,
   "id": "41eced1f",
   "metadata": {},
   "outputs": [
    {
     "data": {
      "text/plain": [
       "'The solution to the equation \\\\(3x + 11 = 14\\\\) is \\\\(x = 1\\\\).'"
      ]
     },
     "execution_count": 27,
     "metadata": {},
     "output_type": "execute_result"
    }
   ],
   "source": [
    "new_message"
   ]
  },
  {
   "cell_type": "code",
   "execution_count": null,
   "id": "50ce21a2",
   "metadata": {},
   "outputs": [],
   "source": []
  }
 ],
 "metadata": {
  "kernelspec": {
   "display_name": "Python 3",
   "language": "python",
   "name": "python3"
  },
  "language_info": {
   "codemirror_mode": {
    "name": "ipython",
    "version": 3
   },
   "file_extension": ".py",
   "mimetype": "text/x-python",
   "name": "python",
   "nbconvert_exporter": "python",
   "pygments_lexer": "ipython3",
   "version": "3.9.2"
  }
 },
 "nbformat": 4,
 "nbformat_minor": 5
}
