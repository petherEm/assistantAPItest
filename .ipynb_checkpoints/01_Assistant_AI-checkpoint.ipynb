{
 "cells": [
  {
   "cell_type": "code",
   "execution_count": 63,
   "id": "05d5e6ef",
   "metadata": {},
   "outputs": [],
   "source": [
    "from openai import OpenAI\n",
    "from dotenv import load_dotenv\n",
    "import os\n",
    "import time"
   ]
  },
  {
   "cell_type": "code",
   "execution_count": 64,
   "id": "650a69b6",
   "metadata": {},
   "outputs": [
    {
     "data": {
      "text/plain": [
       "True"
      ]
     },
     "execution_count": 64,
     "metadata": {},
     "output_type": "execute_result"
    }
   ],
   "source": [
    "load_dotenv()"
   ]
  },
  {
   "cell_type": "code",
   "execution_count": 65,
   "id": "613eab08",
   "metadata": {},
   "outputs": [],
   "source": [
    "OPENAI_API_KEY= os.getenv(\"OPENAI_API_KEY\")"
   ]
  },
  {
   "cell_type": "code",
   "execution_count": 66,
   "id": "35b51097",
   "metadata": {},
   "outputs": [],
   "source": [
    "client = OpenAI(api_key=OPENAI_API_KEY)"
   ]
  },
  {
   "cell_type": "code",
   "execution_count": 67,
   "id": "0eb673e4",
   "metadata": {},
   "outputs": [
    {
     "data": {
      "text/plain": [
       "<openai.OpenAI at 0x7fde696dd400>"
      ]
     },
     "execution_count": 67,
     "metadata": {},
     "output_type": "execute_result"
    }
   ],
   "source": [
    "client"
   ]
  },
  {
   "cell_type": "code",
   "execution_count": null,
   "id": "03732193",
   "metadata": {},
   "outputs": [],
   "source": []
  },
  {
   "cell_type": "code",
   "execution_count": 85,
   "id": "a8c29e77",
   "metadata": {},
   "outputs": [],
   "source": [
    "def upload_file(path):\n",
    "    # Upload a file with an \"assistants\" purpose\n",
    "    file = client.files.create(file=open(path, \"rb\"), purpose=\"assistants\")\n",
    "    return file"
   ]
  },
  {
   "cell_type": "code",
   "execution_count": 69,
   "id": "6e71f40f",
   "metadata": {},
   "outputs": [
    {
     "name": "stdout",
     "output_type": "stream",
     "text": [
      "ChatCompletionMessage(content=\"Western Union does not directly offer a digital bank, thus there isn't a specific top-up fee associated with it. However, Western Union does charge fees for its services like transfers and money orders, which can vary depending on the amount sent, the send and receive locations, and the method of sending. It's best to check their website or contact their customer service directly for the most accurate information.\", role='assistant', function_call=None, tool_calls=None)\n"
     ]
    }
   ],
   "source": [
    "completion = client.chat.completions.create(\n",
    "    model=\"gpt-4\",\n",
    "    messages=[{\"role\": \"user\", \"content\": \"What is the top up fee in Western Union Digital Bank\"}],\n",
    ")\n",
    "\n",
    "print(completion.choices[0].message)"
   ]
  },
  {
   "cell_type": "code",
   "execution_count": 86,
   "id": "b745eafe",
   "metadata": {},
   "outputs": [],
   "source": [
    "def create_assistant(file):\n",
    "    \"\"\"\n",
    "    You currently cannot set the temperature for Assistant via the API.\n",
    "    \"\"\"\n",
    "    assistant = client.beta.assistants.create(\n",
    "        name=\"Western Union Digital Bank Poland Assistant\",\n",
    "        instructions=\"You are a helpful Western Union Digital Bank Poland assistant that can assist customers, potential customers and visitors about the different aspect of Western Union Digital Bank services\",\n",
    "        tools=[{\"type\": \"retrieval\"}],\n",
    "        model=\"gpt-4-1106-preview\",\n",
    "        file_ids=[file.id]\n",
    "    )\n",
    "    return assistant\n",
    "\n"
   ]
  },
  {
   "cell_type": "code",
   "execution_count": 87,
   "id": "fbdb3ae1",
   "metadata": {},
   "outputs": [],
   "source": [
    "file = upload_file(\"WUpricing.pdf\")"
   ]
  },
  {
   "cell_type": "code",
   "execution_count": 88,
   "id": "59920b73",
   "metadata": {},
   "outputs": [
    {
     "data": {
      "text/plain": [
       "FileObject(id='file-UZ0gAm5eKfFDdOSUxBIVjBmh', bytes=158643, created_at=1704648170, filename='WUpricing.pdf', object='file', purpose='assistants', status='processed', status_details=None)"
      ]
     },
     "execution_count": 88,
     "metadata": {},
     "output_type": "execute_result"
    }
   ],
   "source": [
    "file"
   ]
  },
  {
   "cell_type": "code",
   "execution_count": 89,
   "id": "2254d886",
   "metadata": {},
   "outputs": [],
   "source": [
    "assistant = create_assistant(file)"
   ]
  },
  {
   "cell_type": "code",
   "execution_count": 90,
   "id": "2484ded8",
   "metadata": {},
   "outputs": [],
   "source": [
    "def generate_response(message_body):\n",
    "    thread = client.beta.threads.create()\n",
    "    thread_id = thread.id\n",
    "    \n",
    "    #add message to thread\n",
    "    message = client.beta.threads.messages.create(\n",
    "        thread_id=thread_id,\n",
    "        role=\"user\",\n",
    "        content=message_body\n",
    "    )"
   ]
  },
  {
   "cell_type": "code",
   "execution_count": 91,
   "id": "44b4337c",
   "metadata": {},
   "outputs": [],
   "source": [
    "message_body = \"What are the prices?\""
   ]
  },
  {
   "cell_type": "code",
   "execution_count": 92,
   "id": "ab3a377b",
   "metadata": {},
   "outputs": [],
   "source": [
    "generate_response(message_body)"
   ]
  },
  {
   "cell_type": "code",
   "execution_count": 53,
   "id": "c8495765",
   "metadata": {},
   "outputs": [
    {
     "data": {
      "text/plain": [
       "Thread(id='thread_DYWzf6UKXfGvFjl2Le2YkoDL', created_at=1704647681, metadata={}, object='thread')"
      ]
     },
     "execution_count": 53,
     "metadata": {},
     "output_type": "execute_result"
    }
   ],
   "source": [
    "#client.beta.threads.create()"
   ]
  },
  {
   "cell_type": "code",
   "execution_count": 98,
   "id": "32e3b4e9",
   "metadata": {},
   "outputs": [],
   "source": [
    "def run_assistant():\n",
    "    #Retrieve the Assistant\n",
    "    assistant = client.beta.assistants.retrieve(\"asst_H62pQPG9injKdAOVgjluiMiA\")\n",
    "    thread = client.beta.threads.retrieve(\"thread_DYWzf6UKXfGvFjl2Le2YkoDL\")\n",
    "    \n",
    "    # Run the assistant\n",
    "    \n",
    "    run = client.beta.threads.runs.create(\n",
    "        thread_id = thread.id,\n",
    "        assistant_id=assistant.id,\n",
    "    )\n",
    "    \n",
    "    \n",
    "    # retrieve the messages\n",
    "    messages = client.beta.threads.messages.list(thread_id = thread.id)\n",
    "    new_message = messages.data[0].content[0].text.value\n",
    "   \n",
    "    print(new_message)\n"
   ]
  },
  {
   "cell_type": "code",
   "execution_count": 94,
   "id": "39dac24e",
   "metadata": {},
   "outputs": [],
   "source": [
    "#new_message = run_assistant()"
   ]
  },
  {
   "cell_type": "code",
   "execution_count": 99,
   "id": "30fff549",
   "metadata": {},
   "outputs": [
    {
     "name": "stdout",
     "output_type": "stream",
     "text": [
      "It seems there is an issue with the file you uploaded as it appears to be empty or there is an error preventing it from being read. Could you please check the file on your end and try to re-upload it? If the file is correct and isn't empty, please ensure that it is in a readable format, such as PDF or Word document, before re-uploading so I can assist you effectively.\n"
     ]
    }
   ],
   "source": [
    "run_assistant()"
   ]
  },
  {
   "cell_type": "code",
   "execution_count": null,
   "id": "83a793f9",
   "metadata": {},
   "outputs": [],
   "source": []
  }
 ],
 "metadata": {
  "kernelspec": {
   "display_name": "Python 3",
   "language": "python",
   "name": "python3"
  },
  "language_info": {
   "codemirror_mode": {
    "name": "ipython",
    "version": 3
   },
   "file_extension": ".py",
   "mimetype": "text/x-python",
   "name": "python",
   "nbconvert_exporter": "python",
   "pygments_lexer": "ipython3",
   "version": "3.9.2"
  }
 },
 "nbformat": 4,
 "nbformat_minor": 5
}
